{
 "cells": [
  {
   "cell_type": "code",
   "execution_count": 1,
   "id": "b41eccca-62a3-4e24-941b-ea93c70a46e9",
   "metadata": {},
   "outputs": [
    {
     "name": "stdout",
     "output_type": "stream",
     "text": [
      "WARNING:tensorflow:From /opt/conda/lib/python3.7/site-packages/tensorboard/plugins/hparams/summary.py:202: The name tf.make_tensor_proto is deprecated. Please use tf.compat.v1.make_tensor_proto instead.\n",
      "\n"
     ]
    }
   ],
   "source": [
    "import keras_tuner as kt\n",
    "import tensorflow as tf\n",
    "from tensorflow import keras\n",
    "import pandas as pd"
   ]
  },
  {
   "cell_type": "code",
   "execution_count": 2,
   "id": "1c334ffa-186d-4177-b265-d541ae92fbb9",
   "metadata": {},
   "outputs": [
    {
     "data": {
      "text/plain": [
       "'/home/jupyter/.keras/datasets/auto-mpg.data'"
      ]
     },
     "execution_count": 2,
     "metadata": {},
     "output_type": "execute_result"
    }
   ],
   "source": [
    "dataset_path = keras.utils.get_file(\"auto-mpg.data\", \"http://archive.ics.uci.edu/ml/machine-learning-databases/auto-mpg/auto-mpg.data\")\n",
    "dataset_path"
   ]
  },
  {
   "cell_type": "code",
   "execution_count": 3,
   "id": "e88cbf2b-0825-4fe8-9560-05eb6e59e143",
   "metadata": {},
   "outputs": [],
   "source": [
    "column_names = ['MPG','Cylinders','Displacement','Horsepower','Weight',\n",
    "                'Acceleration', 'Model Year', 'Origin']\n",
    "dataset = pd.read_csv(dataset_path, names=column_names,\n",
    "                      na_values = \"?\", comment='\\t',\n",
    "                      sep=\" \", skipinitialspace=True)\n",
    "dataset.isna().sum()\n",
    "\n",
    "\"\"\"To keep this initial tutorial simple drop those rows.\"\"\"\n",
    "\n",
    "dataset = dataset.dropna()\n",
    "\n",
    "\"\"\"The `\"Origin\"` column is really categorical, not numeric. So convert that to a one-hot:\"\"\"\n",
    "\n",
    "dataset['Origin'] = dataset['Origin'].map({1: 'USA', 2: 'Europe', 3: 'Japan'})\n",
    "\n",
    "dataset = pd.get_dummies(dataset, prefix='', prefix_sep='')\n",
    "dataset.tail()\n",
    "\n",
    "\"\"\"### Split the data into train and test\n",
    "\n",
    "Now split the dataset into a training set and a test set.\n",
    "\n",
    "We will use the test set in the final evaluation of our model.\n",
    "\"\"\"\n",
    "\n",
    "\n",
    "\n",
    "train_dataset = dataset.sample(frac=0.8,random_state=0)\n",
    "test_dataset = dataset.drop(train_dataset.index)\n",
    "train_stats = train_dataset.describe()\n",
    "train_stats.pop(\"MPG\")\n",
    "train_stats = train_stats.transpose()\n",
    "train_stats\n",
    "train_labels = train_dataset.pop('MPG')\n",
    "test_labels = test_dataset.pop('MPG')\n",
    "\n",
    "def norm(x):\n",
    "  return (x - train_stats['mean']) / train_stats['std']\n",
    "normed_train_data = norm(train_dataset)\n",
    "normed_test_data = norm(test_dataset)\n",
    "\n"
   ]
  },
  {
   "cell_type": "code",
   "execution_count": 4,
   "id": "387e167d-ddab-450b-8ed1-05e6f53e595d",
   "metadata": {},
   "outputs": [
    {
     "data": {
      "text/plain": [
       "Index(['Cylinders', 'Displacement', 'Horsepower', 'Weight', 'Acceleration',\n",
       "       'Model Year', 'Europe', 'Japan', 'USA'],\n",
       "      dtype='object')"
      ]
     },
     "execution_count": 4,
     "metadata": {},
     "output_type": "execute_result"
    }
   ],
   "source": [
    "normed_train_data.columns"
   ]
  },
  {
   "cell_type": "code",
   "execution_count": 22,
   "id": "1495a11d-301b-43a5-b24e-a0478b815637",
   "metadata": {},
   "outputs": [],
   "source": [
    "def build_model(hp):\n",
    "  model = keras.Sequential()\n",
    "  model.add(\n",
    "      keras.layers.Dense(32, activation='relu', input_shape=[len(train_dataset.keys())]))\n",
    "  model.add(keras.layers.Dense(\n",
    "      #hp.Choice('units', [8, 16, 32, 64, 128, 256, 512]),\n",
    "      units=hp.Int(\"units\", min_value=64, max_value=512, step=16),\n",
    "      activation=hp.Choice(\"activation\", [\"relu\", \"elu\"])))\n",
    "  model.add(keras.layers.Dense(\n",
    "      #hp.Choice('units', [8, 16, 32, 64, 128, 256, 512]),\n",
    "      units=hp.Int(\"units\", min_value=128, max_value=1024, step=16),\n",
    "      activation=hp.Choice(\"activation\", [\"relu\", \"elu\"])))\n",
    "  model.add(keras.layers.Dense(\n",
    "      #hp.Choice('units', [8, 16, 32, 64, 128, 256, 512]),\n",
    "      units=hp.Int(\"units\", min_value=128, max_value=1024, step=16),\n",
    "      activation=hp.Choice(\"activation\", [\"relu\", \"elu\"])))\n",
    "  model.add(keras.layers.Dense(1, activation='relu'))\n",
    "  model.compile(loss='mse',optimizer=hp.Choice(\"optimizer\", [\"adam\", \"adadelta\"]),)\n",
    "  return model"
   ]
  },
  {
   "cell_type": "code",
   "execution_count": 23,
   "id": "fbc9ef55-099f-4e80-a076-1521ec040f58",
   "metadata": {},
   "outputs": [],
   "source": [
    "tuner = kt.RandomSearch(\n",
    "    build_model,\n",
    "    objective='val_loss',\n",
    "    overwrite=True,\n",
    "    max_trials=30,\n",
    "    #max_epochs=10,\n",
    "    executions_per_trial=2,\n",
    "    project_name=\"sample_search\")"
   ]
  },
  {
   "cell_type": "code",
   "execution_count": null,
   "id": "dcbe77b2-35d8-41de-9f81-106464b88473",
   "metadata": {},
   "outputs": [
    {
     "name": "stdout",
     "output_type": "stream",
     "text": [
      "Trial 7 Complete [00h 00m 04s]\n",
      "val_loss: 8.599861224492392\n",
      "\n",
      "Best val_loss So Far: 7.561386481309549\n",
      "Total elapsed time: 00h 00m 28s\n",
      "\n",
      "Search: Running Trial #8\n",
      "\n",
      "Hyperparameter    |Value             |Best Value So Far \n",
      "units             |464               |144               \n",
      "activation        |elu               |elu               \n",
      "optimizer         |adadelta          |adam              \n",
      "\n",
      "Train on 314 samples, validate on 78 samples\n",
      "Epoch 1/10\n",
      "314/314 [==============================] - 1s 3ms/sample - loss: 599.3728 - val_loss: 637.3239\n",
      "Epoch 2/10\n",
      "314/314 [==============================] - 0s 483us/sample - loss: 598.6707 - val_loss: 636.6444\n",
      "Epoch 3/10\n",
      "314/314 [==============================] - 0s 341us/sample - loss: 597.9435 - val_loss: 635.9407\n",
      "Epoch 4/10\n",
      "314/314 [==============================] - 0s 426us/sample - loss: 597.1971 - val_loss: 635.2135\n",
      "Epoch 5/10\n",
      "314/314 [==============================] - 0s 303us/sample - loss: 596.4272 - val_loss: 634.4721\n",
      "Epoch 6/10\n",
      "314/314 [==============================] - 0s 357us/sample - loss: 595.6518 - val_loss: 633.7227\n",
      "Epoch 7/10\n",
      "314/314 [==============================] - 0s 298us/sample - loss: 594.8597 - val_loss: 632.9558\n",
      "Epoch 8/10\n",
      "314/314 [==============================] - 0s 261us/sample - loss: 594.0460 - val_loss: 632.1741\n",
      "Epoch 9/10\n",
      "314/314 [==============================] - 0s 298us/sample - loss: 593.2171 - val_loss: 631.3819\n",
      "Epoch 10/10\n",
      "314/314 [==============================] - 0s 435us/sample - loss: 592.3740 - val_loss: 630.5725\n",
      "Train on 314 samples, validate on 78 samples\n",
      "Epoch 1/10\n",
      "314/314 [==============================] - 1s 2ms/sample - loss: 600.1519 - val_loss: 638.0571\n",
      "Epoch 2/10\n",
      "314/314 [==============================] - 0s 212us/sample - loss: 599.4217 - val_loss: 637.2284\n",
      "Epoch 3/10\n",
      "314/314 [==============================] - 0s 201us/sample - loss: 598.6021 - val_loss: 636.3627\n",
      "Epoch 4/10\n",
      "314/314 [==============================] - 0s 223us/sample - loss: 597.7374 - val_loss: 635.3910\n",
      "Epoch 5/10\n",
      "314/314 [==============================] - 0s 192us/sample - loss: 596.6841 - val_loss: 634.1590\n",
      "Epoch 6/10\n",
      "314/314 [==============================] - 0s 255us/sample - loss: 595.3736 - val_loss: 632.7648\n",
      "Epoch 7/10\n",
      "314/314 [==============================] - 0s 252us/sample - loss: 593.8521 - val_loss: 631.1751\n"
     ]
    }
   ],
   "source": [
    "tuner.search(normed_train_data, train_labels, epochs=10, validation_data=(normed_test_data, test_labels))\n",
    "\n"
   ]
  },
  {
   "cell_type": "code",
   "execution_count": 8,
   "id": "e5d847ec-20e1-4435-b230-2a9736da6a24",
   "metadata": {},
   "outputs": [],
   "source": [
    "best_model = tuner.get_best_models()[0]"
   ]
  },
  {
   "cell_type": "code",
   "execution_count": 9,
   "id": "52f04668-cffb-4dc6-901b-48d1bd73328a",
   "metadata": {},
   "outputs": [
    {
     "name": "stdout",
     "output_type": "stream",
     "text": [
      "Model: \"sequential\"\n",
      "_________________________________________________________________\n",
      "Layer (type)                 Output Shape              Param #   \n",
      "=================================================================\n",
      "dense (Dense)                (None, 32)                320       \n",
      "_________________________________________________________________\n",
      "dense_1 (Dense)              (None, 368)               12144     \n",
      "_________________________________________________________________\n",
      "dense_2 (Dense)              (None, 368)               135792    \n",
      "_________________________________________________________________\n",
      "dense_3 (Dense)              (None, 368)               135792    \n",
      "_________________________________________________________________\n",
      "dense_4 (Dense)              (None, 1)                 369       \n",
      "=================================================================\n",
      "Total params: 284,417\n",
      "Trainable params: 284,417\n",
      "Non-trainable params: 0\n",
      "_________________________________________________________________\n"
     ]
    }
   ],
   "source": [
    "best_model.summary()"
   ]
  },
  {
   "cell_type": "code",
   "execution_count": null,
   "id": "dde43737-7645-4966-a052-1447430df208",
   "metadata": {},
   "outputs": [],
   "source": []
  }
 ],
 "metadata": {
  "environment": {
   "kernel": "python3",
   "name": "tf-gpu.1-15.m84",
   "type": "gcloud",
   "uri": "gcr.io/deeplearning-platform-release/tf-gpu.1-15:m84"
  },
  "kernelspec": {
   "display_name": "Python 3",
   "language": "python",
   "name": "python3"
  },
  "language_info": {
   "codemirror_mode": {
    "name": "ipython",
    "version": 3
   },
   "file_extension": ".py",
   "mimetype": "text/x-python",
   "name": "python",
   "nbconvert_exporter": "python",
   "pygments_lexer": "ipython3",
   "version": "3.7.12"
  }
 },
 "nbformat": 4,
 "nbformat_minor": 5
}
